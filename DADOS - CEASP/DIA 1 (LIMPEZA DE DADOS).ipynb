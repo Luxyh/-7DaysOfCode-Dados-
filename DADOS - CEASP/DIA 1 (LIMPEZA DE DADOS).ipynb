{
 "cells": [
  {
   "cell_type": "markdown",
   "metadata": {},
   "source": [
    "---\n",
    "\n",
    "![](https://ci3.googleusercontent.com/meips/ADKq_NalPsTE2pvOYWNLuTx5FQEiqMR2IICqwbE0yd07Lo5DBqNSujrNfI0xeljnYJEChVIFRqOWdClXUnsfUcUCm1Yrdz0t8BSxBTJ5h_V81xXqZVaqBPFHbfeSCOfVVm-Ti6Ip97bEaRmY7VQ4uEa--AnbpHKzgP0LNNc69HJnzQT1YigtFjsIRkNyXNXscnsPuWMxfVHTVSUshI1Tqjimq5Glw3mN0JUf0G3dtb0LUw=s0-d-e1-ft#https://empresas.alura.com.br/hs-fs/hubfs/488ef98e-4d3a-4c98-9ad4-70c297d9511a.png?width=536&upscale=true&name=488ef98e-4d3a-4c98-9ad4-70c297d9511a.pngraw=true)\n",
    "   \n",
    "\n",
    "Por **Luiz Henrique Leite dos Santos**\n",
    "\n",
    "# #7DaysOfCode - 1: Data Cleaning and Preparation\n",
    "\n",
    "Realizar procedimentos para tratar e limpar dados, detectando inconsistências como campos com valores nulos ou duplicados, transformando campos de data que estão em formato de texto, ajustando valores monetários, corrigindo nomes incorretos, e padronizando a formatação de campos de CNPJ, entre outras tarefas.\n",
    "   \n",
    "---"
   ]
  },
  {
   "cell_type": "markdown",
   "metadata": {},
   "source": [
    "---\n",
    "\n",
    "## Importação e Análise dos dados \n",
    "\n",
    " Inicialmente, os dados são importados de fontes externas, como arquivos CSV, para dentro do ambiente do notebook.\n",
    " Após a importação, uma análise inicial utilizando as bibliotecas necessarias é conduzida para compreender a estrutura dos dados. Isso inclui a visualização das primeiras linhas do conjunto de dados, identificação dos tipos de dados em cada coluna e verificação de valores nulos ou ausentes. Também são detectadas possíveis inconsistências que necessitam de tratamento. O objetivo é deixar os dados prontos para análises posteriores.\n",
    "\n",
    "---"
   ]
  },
  {
   "cell_type": "code",
   "execution_count": 78,
   "metadata": {},
   "outputs": [],
   "source": [
    "import pandas as pd ## importando bibloteca pandas "
   ]
  },
  {
   "cell_type": "code",
   "execution_count": 79,
   "metadata": {},
   "outputs": [],
   "source": [
    "## importando arquivos de dados \n",
    "\n",
    "dados1 = pd.read_csv('despesa_ceaps_2019.csv', sep = \";\", encoding=\"latin1\", decimal = \",\") ## especeficando a separação de numeros decimais por 'virgula' e a separação de campo de dados por 'ponto e virgula'\n",
    "dados2 = pd.read_csv('despesa_ceaps_2020.csv', sep = \";\", encoding=\"latin1\", decimal = \",\")\n",
    "dados3 = pd.read_csv('despesa_ceaps_2021.csv', sep = \";\", encoding=\"latin1\", decimal = \",\")\n",
    "dados4 = pd.read_csv('despesa_ceaps_2022.csv', sep = \";\", encoding=\"latin1\", decimal = \",\")\n"
   ]
  },
  {
   "cell_type": "code",
   "execution_count": 80,
   "metadata": {},
   "outputs": [
    {
     "data": {
      "text/html": [
       "<div>\n",
       "<style scoped>\n",
       "    .dataframe tbody tr th:only-of-type {\n",
       "        vertical-align: middle;\n",
       "    }\n",
       "\n",
       "    .dataframe tbody tr th {\n",
       "        vertical-align: top;\n",
       "    }\n",
       "\n",
       "    .dataframe thead th {\n",
       "        text-align: right;\n",
       "    }\n",
       "</style>\n",
       "<table border=\"1\" class=\"dataframe\">\n",
       "  <thead>\n",
       "    <tr style=\"text-align: right;\">\n",
       "      <th></th>\n",
       "      <th>level_0</th>\n",
       "      <th>level_1</th>\n",
       "      <th>level_2</th>\n",
       "      <th>level_3</th>\n",
       "      <th>level_4</th>\n",
       "      <th>level_5</th>\n",
       "      <th>level_6</th>\n",
       "      <th>level_7</th>\n",
       "      <th>level_8</th>\n",
       "      <th>ULTIMA ATUALIZACAO</th>\n",
       "      <th>06/08/2021 02:08</th>\n",
       "      <th>26/04/2024 02:00</th>\n",
       "      <th>26/04/2024 02:01</th>\n",
       "    </tr>\n",
       "  </thead>\n",
       "  <tbody>\n",
       "    <tr>\n",
       "      <th>0</th>\n",
       "      <td>ANO</td>\n",
       "      <td>MES</td>\n",
       "      <td>SENADOR</td>\n",
       "      <td>TIPO_DESPESA</td>\n",
       "      <td>CNPJ_CPF</td>\n",
       "      <td>FORNECEDOR</td>\n",
       "      <td>DOCUMENTO</td>\n",
       "      <td>DATA</td>\n",
       "      <td>DETALHAMENTO</td>\n",
       "      <td>VALOR_REEMBOLSADO</td>\n",
       "      <td>COD_DOCUMENTO</td>\n",
       "      <td>NaN</td>\n",
       "      <td>NaN</td>\n",
       "    </tr>\n",
       "    <tr>\n",
       "      <th>1</th>\n",
       "      <td>2019</td>\n",
       "      <td>1</td>\n",
       "      <td>ACIR GURGACZ</td>\n",
       "      <td>Aluguel de imóveis para escritório político, c...</td>\n",
       "      <td>05.914.650/0001-66</td>\n",
       "      <td>ENERGISA</td>\n",
       "      <td>006582758</td>\n",
       "      <td>04/01/2019</td>\n",
       "      <td>Despesa com pagamento de energia elétrica do e...</td>\n",
       "      <td>66,02</td>\n",
       "      <td>2116543</td>\n",
       "      <td>NaN</td>\n",
       "      <td>NaN</td>\n",
       "    </tr>\n",
       "    <tr>\n",
       "      <th>2</th>\n",
       "      <td>2019</td>\n",
       "      <td>1</td>\n",
       "      <td>ACIR GURGACZ</td>\n",
       "      <td>Aluguel de imóveis para escritório político, c...</td>\n",
       "      <td>05.914.650/0001-66</td>\n",
       "      <td>ENERGISA</td>\n",
       "      <td>006582755</td>\n",
       "      <td>04/01/2019</td>\n",
       "      <td>Despesa com pagamento de energia elétrica do e...</td>\n",
       "      <td>139,98</td>\n",
       "      <td>2116546</td>\n",
       "      <td>NaN</td>\n",
       "      <td>NaN</td>\n",
       "    </tr>\n",
       "    <tr>\n",
       "      <th>3</th>\n",
       "      <td>2019</td>\n",
       "      <td>1</td>\n",
       "      <td>ACIR GURGACZ</td>\n",
       "      <td>Aluguel de imóveis para escritório político, c...</td>\n",
       "      <td>004.948.028-63</td>\n",
       "      <td>GILBERTO PISELO DO NASCIMENTO</td>\n",
       "      <td>00119</td>\n",
       "      <td>07/01/2019</td>\n",
       "      <td>Despesa com pagamento de aluguel de imóvel par...</td>\n",
       "      <td>6000</td>\n",
       "      <td>2113817</td>\n",
       "      <td>NaN</td>\n",
       "      <td>NaN</td>\n",
       "    </tr>\n",
       "    <tr>\n",
       "      <th>4</th>\n",
       "      <td>2019</td>\n",
       "      <td>1</td>\n",
       "      <td>ACIR GURGACZ</td>\n",
       "      <td>Aluguel de imóveis para escritório político, c...</td>\n",
       "      <td>05.423.963/0001-11</td>\n",
       "      <td>OI MÓVEL S.A.</td>\n",
       "      <td>86161151</td>\n",
       "      <td>25/12/2018</td>\n",
       "      <td>Despesa com pagamento de telefonia para o escr...</td>\n",
       "      <td>316,39</td>\n",
       "      <td>2116541</td>\n",
       "      <td>NaN</td>\n",
       "      <td>NaN</td>\n",
       "    </tr>\n",
       "  </tbody>\n",
       "</table>\n",
       "</div>"
      ],
      "text/plain": [
       "  level_0 level_1       level_2  \\\n",
       "0     ANO     MES       SENADOR   \n",
       "1    2019       1  ACIR GURGACZ   \n",
       "2    2019       1  ACIR GURGACZ   \n",
       "3    2019       1  ACIR GURGACZ   \n",
       "4    2019       1  ACIR GURGACZ   \n",
       "\n",
       "                                             level_3             level_4  \\\n",
       "0                                       TIPO_DESPESA            CNPJ_CPF   \n",
       "1  Aluguel de imóveis para escritório político, c...  05.914.650/0001-66   \n",
       "2  Aluguel de imóveis para escritório político, c...  05.914.650/0001-66   \n",
       "3  Aluguel de imóveis para escritório político, c...      004.948.028-63   \n",
       "4  Aluguel de imóveis para escritório político, c...  05.423.963/0001-11   \n",
       "\n",
       "                         level_5    level_6     level_7  \\\n",
       "0                     FORNECEDOR  DOCUMENTO        DATA   \n",
       "1                       ENERGISA  006582758  04/01/2019   \n",
       "2                       ENERGISA  006582755  04/01/2019   \n",
       "3  GILBERTO PISELO DO NASCIMENTO      00119  07/01/2019   \n",
       "4                  OI MÓVEL S.A.   86161151  25/12/2018   \n",
       "\n",
       "                                             level_8 ULTIMA ATUALIZACAO  \\\n",
       "0                                       DETALHAMENTO  VALOR_REEMBOLSADO   \n",
       "1  Despesa com pagamento de energia elétrica do e...              66,02   \n",
       "2  Despesa com pagamento de energia elétrica do e...             139,98   \n",
       "3  Despesa com pagamento de aluguel de imóvel par...               6000   \n",
       "4  Despesa com pagamento de telefonia para o escr...             316,39   \n",
       "\n",
       "  06/08/2021 02:08 26/04/2024 02:00 26/04/2024 02:01  \n",
       "0    COD_DOCUMENTO              NaN              NaN  \n",
       "1          2116543              NaN              NaN  \n",
       "2          2116546              NaN              NaN  \n",
       "3          2113817              NaN              NaN  \n",
       "4          2116541              NaN              NaN  "
      ]
     },
     "execution_count": 80,
     "metadata": {},
     "output_type": "execute_result"
    }
   ],
   "source": [
    "\n",
    "dados_ceaps = pd.concat([dados1, dados2, dados3, dados4]) # Usando concat para juntar os DataFrames\n",
    "dados_ceaps = dados_ceaps.reset_index() # Corrigimos o índice com o método reset_index\n",
    "dados_ceaps.head() # Visualizando as primeiras linhad do nosso DataFrame\n",
    "\n"
   ]
  },
  {
   "cell_type": "code",
   "execution_count": 81,
   "metadata": {},
   "outputs": [],
   "source": [
    "# Utilizando .colums para renomear as colunas do DataFrame\n",
    "dados_ceaps.columns = ['ANO', 'MES', 'SENADOR', 'TIPO_DESPESA', 'CNPJ_CPF',\n",
    "                                           'FORNECEDOR', 'DOCUMENTO', 'DATA', 'DETALHAMENTO', \n",
    "                                           'VALOR_REEMBOLSADO', 'COD_DOCUMENTO', 'NaN', 'NaN']\n"
   ]
  },
  {
   "cell_type": "code",
   "execution_count": 82,
   "metadata": {},
   "outputs": [],
   "source": [
    "dados_ceaps = dados_ceaps.drop(columns = ['NaN']) # Excluindo as colunas \"NaN\" do DataFrame\n",
    "dados_ceaps = dados_ceaps.drop(0, axis = 0) # Excluindo a linha 0  do DataFrame"
   ]
  },
  {
   "cell_type": "code",
   "execution_count": 83,
   "metadata": {},
   "outputs": [
    {
     "data": {
      "text/html": [
       "<div>\n",
       "<style scoped>\n",
       "    .dataframe tbody tr th:only-of-type {\n",
       "        vertical-align: middle;\n",
       "    }\n",
       "\n",
       "    .dataframe tbody tr th {\n",
       "        vertical-align: top;\n",
       "    }\n",
       "\n",
       "    .dataframe thead th {\n",
       "        text-align: right;\n",
       "    }\n",
       "</style>\n",
       "<table border=\"1\" class=\"dataframe\">\n",
       "  <thead>\n",
       "    <tr style=\"text-align: right;\">\n",
       "      <th></th>\n",
       "      <th>ANO</th>\n",
       "      <th>MES</th>\n",
       "      <th>SENADOR</th>\n",
       "      <th>TIPO_DESPESA</th>\n",
       "      <th>CNPJ_CPF</th>\n",
       "      <th>FORNECEDOR</th>\n",
       "      <th>DOCUMENTO</th>\n",
       "      <th>DATA</th>\n",
       "      <th>DETALHAMENTO</th>\n",
       "      <th>VALOR_REEMBOLSADO</th>\n",
       "      <th>COD_DOCUMENTO</th>\n",
       "    </tr>\n",
       "  </thead>\n",
       "  <tbody>\n",
       "    <tr>\n",
       "      <th>69332</th>\n",
       "      <td>2022</td>\n",
       "      <td>12</td>\n",
       "      <td>ZEQUINHA MARINHO</td>\n",
       "      <td>Passagens aéreas, aquáticas e terrestres nacio...</td>\n",
       "      <td>22.052.777/0001-32</td>\n",
       "      <td>Exceller Tour</td>\n",
       "      <td>WIXHAI</td>\n",
       "      <td>06/12/2022</td>\n",
       "      <td>Companhia Aérea: LATAM, Localizador: WIXHAI. P...</td>\n",
       "      <td>2893,04</td>\n",
       "      <td>NaN</td>\n",
       "    </tr>\n",
       "    <tr>\n",
       "      <th>69333</th>\n",
       "      <td>2022</td>\n",
       "      <td>12</td>\n",
       "      <td>ZEQUINHA MARINHO</td>\n",
       "      <td>Passagens aéreas, aquáticas e terrestres nacio...</td>\n",
       "      <td>22.052.777/0001-32</td>\n",
       "      <td>Exceller Tour</td>\n",
       "      <td>WITOLM</td>\n",
       "      <td>09/12/2022</td>\n",
       "      <td>Companhia Aérea: GOL, Localizador: WITOLM. Pas...</td>\n",
       "      <td>1180,19</td>\n",
       "      <td>NaN</td>\n",
       "    </tr>\n",
       "    <tr>\n",
       "      <th>69334</th>\n",
       "      <td>2022</td>\n",
       "      <td>12</td>\n",
       "      <td>ZEQUINHA MARINHO</td>\n",
       "      <td>Passagens aéreas, aquáticas e terrestres nacio...</td>\n",
       "      <td>22.052.777/0001-32</td>\n",
       "      <td>Exceller Tour</td>\n",
       "      <td>THPKVQ</td>\n",
       "      <td>20/12/2022</td>\n",
       "      <td>Companhia Aérea: TAM, Localizador: THPKVQ. Pas...</td>\n",
       "      <td>2671,9</td>\n",
       "      <td>NaN</td>\n",
       "    </tr>\n",
       "    <tr>\n",
       "      <th>69335</th>\n",
       "      <td>2022</td>\n",
       "      <td>12</td>\n",
       "      <td>ZEQUINHA MARINHO</td>\n",
       "      <td>Passagens aéreas, aquáticas e terrestres nacio...</td>\n",
       "      <td>22.052.777/0001-32</td>\n",
       "      <td>Exceller Tour</td>\n",
       "      <td>QNN9HX</td>\n",
       "      <td>21/12/2022</td>\n",
       "      <td>Companhia Aérea: AZUL, Localizador: QNN9HX. Pa...</td>\n",
       "      <td>1334,31</td>\n",
       "      <td>NaN</td>\n",
       "    </tr>\n",
       "    <tr>\n",
       "      <th>69336</th>\n",
       "      <td>2022</td>\n",
       "      <td>12</td>\n",
       "      <td>ZEQUINHA MARINHO</td>\n",
       "      <td>Passagens aéreas, aquáticas e terrestres nacio...</td>\n",
       "      <td>22.052.777/0001-32</td>\n",
       "      <td>Exceller Tour</td>\n",
       "      <td>WMQWBX</td>\n",
       "      <td>30/12/2022</td>\n",
       "      <td>Companhia Aérea: TAM, Localizador: WMQWBX. Pas...</td>\n",
       "      <td>2250,72</td>\n",
       "      <td>NaN</td>\n",
       "    </tr>\n",
       "  </tbody>\n",
       "</table>\n",
       "</div>"
      ],
      "text/plain": [
       "        ANO MES           SENADOR  \\\n",
       "69332  2022  12  ZEQUINHA MARINHO   \n",
       "69333  2022  12  ZEQUINHA MARINHO   \n",
       "69334  2022  12  ZEQUINHA MARINHO   \n",
       "69335  2022  12  ZEQUINHA MARINHO   \n",
       "69336  2022  12  ZEQUINHA MARINHO   \n",
       "\n",
       "                                            TIPO_DESPESA            CNPJ_CPF  \\\n",
       "69332  Passagens aéreas, aquáticas e terrestres nacio...  22.052.777/0001-32   \n",
       "69333  Passagens aéreas, aquáticas e terrestres nacio...  22.052.777/0001-32   \n",
       "69334  Passagens aéreas, aquáticas e terrestres nacio...  22.052.777/0001-32   \n",
       "69335  Passagens aéreas, aquáticas e terrestres nacio...  22.052.777/0001-32   \n",
       "69336  Passagens aéreas, aquáticas e terrestres nacio...  22.052.777/0001-32   \n",
       "\n",
       "          FORNECEDOR DOCUMENTO        DATA  \\\n",
       "69332  Exceller Tour    WIXHAI  06/12/2022   \n",
       "69333  Exceller Tour    WITOLM  09/12/2022   \n",
       "69334  Exceller Tour    THPKVQ  20/12/2022   \n",
       "69335  Exceller Tour    QNN9HX  21/12/2022   \n",
       "69336  Exceller Tour    WMQWBX  30/12/2022   \n",
       "\n",
       "                                            DETALHAMENTO VALOR_REEMBOLSADO  \\\n",
       "69332  Companhia Aérea: LATAM, Localizador: WIXHAI. P...           2893,04   \n",
       "69333  Companhia Aérea: GOL, Localizador: WITOLM. Pas...           1180,19   \n",
       "69334  Companhia Aérea: TAM, Localizador: THPKVQ. Pas...            2671,9   \n",
       "69335  Companhia Aérea: AZUL, Localizador: QNN9HX. Pa...           1334,31   \n",
       "69336  Companhia Aérea: TAM, Localizador: WMQWBX. Pas...           2250,72   \n",
       "\n",
       "      COD_DOCUMENTO  \n",
       "69332           NaN  \n",
       "69333           NaN  \n",
       "69334           NaN  \n",
       "69335           NaN  \n",
       "69336           NaN  "
      ]
     },
     "execution_count": 83,
     "metadata": {},
     "output_type": "execute_result"
    }
   ],
   "source": [
    "dados_ceaps.tail() # Visualizamos as ultimas colunas do DataFrame"
   ]
  },
  {
   "cell_type": "markdown",
   "metadata": {},
   "source": [
    "Após a importação dos dados que serão utilizados realizamos o procedimento de **exploração de dados** que é uma etapa fundamental na análise de dados. Ele servindo para entender melhor a estrutura, conteúdo e características dos dados que estamos lidando."
   ]
  },
  {
   "cell_type": "code",
   "execution_count": 84,
   "metadata": {},
   "outputs": [
    {
     "data": {
      "text/plain": [
       "(69336, 11)"
      ]
     },
     "execution_count": 84,
     "metadata": {},
     "output_type": "execute_result"
    }
   ],
   "source": [
    "dados_ceaps.shape ##  Visualizando número de linhas e colunas do DataFrame"
   ]
  },
  {
   "cell_type": "code",
   "execution_count": 85,
   "metadata": {},
   "outputs": [
    {
     "name": "stdout",
     "output_type": "stream",
     "text": [
      "<class 'pandas.core.frame.DataFrame'>\n",
      "RangeIndex: 69336 entries, 1 to 69336\n",
      "Data columns (total 11 columns):\n",
      " #   Column             Non-Null Count  Dtype \n",
      "---  ------             --------------  ----- \n",
      " 0   ANO                69336 non-null  object\n",
      " 1   MES                69336 non-null  object\n",
      " 2   SENADOR            69336 non-null  object\n",
      " 3   TIPO_DESPESA       69336 non-null  object\n",
      " 4   CNPJ_CPF           69336 non-null  object\n",
      " 5   FORNECEDOR         69336 non-null  object\n",
      " 6   DOCUMENTO          66373 non-null  object\n",
      " 7   DATA               69336 non-null  object\n",
      " 8   DETALHAMENTO       38586 non-null  object\n",
      " 9   VALOR_REEMBOLSADO  69336 non-null  object\n",
      " 10  COD_DOCUMENTO      21634 non-null  object\n",
      "dtypes: object(11)\n",
      "memory usage: 5.8+ MB\n"
     ]
    }
   ],
   "source": [
    "dados_ceaps.info() # Utilizando .info() para ter uma visão geral do DataFrame"
   ]
  },
  {
   "cell_type": "code",
   "execution_count": 86,
   "metadata": {},
   "outputs": [
    {
     "data": {
      "text/plain": [
       "ANO                      0\n",
       "MES                      0\n",
       "SENADOR                  0\n",
       "TIPO_DESPESA             0\n",
       "CNPJ_CPF                 0\n",
       "FORNECEDOR               0\n",
       "DOCUMENTO             2963\n",
       "DATA                     0\n",
       "DETALHAMENTO         30750\n",
       "VALOR_REEMBOLSADO        0\n",
       "COD_DOCUMENTO        47702\n",
       "dtype: int64"
      ]
     },
     "execution_count": 86,
     "metadata": {},
     "output_type": "execute_result"
    }
   ],
   "source": [
    "dados_ceaps.isnull().sum() # Verificando a quantidade de valores nulos totais por coluna "
   ]
  },
  {
   "cell_type": "markdown",
   "metadata": {},
   "source": [
    "### Trabalhando com os valores nulos "
   ]
  },
  {
   "cell_type": "markdown",
   "metadata": {},
   "source": [
    " Quando analisamos a quantidade de valores nulos por tabela é possivel notar que estão somente presentes nas colunas *'DOCUMENTO'*, '*DETALHAMENTO'* e *'COD_DOCUMENTO'*.\n",
    "\n",
    "As colunas *'DOCUMENTO'* e *'COD_DOCUMENTO'*, podem ser excluidas já que não acrescentão informações relevantes para o estudo dos gastos.\n",
    "\n",
    " A coluna *'DETALHAMENTO'* está diretamente relacionada a coluna *'TIPO_DESPESA'*, onde é entregue o detalhamento da despesa do senador, dessa forma é possivel utilizar a coluna *'TIPO_DESPESA'* para preencher os valores nulos da coluna *'DETALHAMENTO'*.\n",
    "\n"
   ]
  },
  {
   "cell_type": "code",
   "execution_count": 87,
   "metadata": {},
   "outputs": [],
   "source": [
    "copia = dados_ceaps.copy # Criando uma cópia dos dados\n",
    "dados_ceaps = dados_ceaps.drop(columns = ['DOCUMENTO', 'COD_DOCUMENTO']) # Removendo as colunas DOCUMENTO E COD_DOCUMENTO\n"
   ]
  },
  {
   "cell_type": "code",
   "execution_count": 88,
   "metadata": {},
   "outputs": [],
   "source": [
    "dados_ceaps.loc[dados_ceaps['DETALHAMENTO'].isnull(), 'DETALHAMENTO'] = dados_ceaps[dados_ceaps['DETALHAMENTO'].isnull()]['TIPO_DESPESA'] # preenchendo dados ausentes da coluna 'DETALHAMENTO'"
   ]
  },
  {
   "cell_type": "code",
   "execution_count": 89,
   "metadata": {},
   "outputs": [
    {
     "data": {
      "text/plain": [
       "ANO                  0\n",
       "MES                  0\n",
       "SENADOR              0\n",
       "TIPO_DESPESA         0\n",
       "CNPJ_CPF             0\n",
       "FORNECEDOR           0\n",
       "DATA                 0\n",
       "DETALHAMENTO         0\n",
       "VALOR_REEMBOLSADO    0\n",
       "dtype: int64"
      ]
     },
     "execution_count": 89,
     "metadata": {},
     "output_type": "execute_result"
    }
   ],
   "source": [
    "# Verificando dados ausentes\n",
    "dados_ceaps.isnull().sum()"
   ]
  },
  {
   "cell_type": "code",
   "execution_count": 90,
   "metadata": {},
   "outputs": [],
   "source": [
    "# Substituir vírgulas por pontos na coluna 'VALOR_REEMBOLSADO'\n",
    "dados_ceaps['VALOR_REEMBOLSADO'] = dados_ceaps['VALOR_REEMBOLSADO'].str.replace(',', '.')"
   ]
  },
  {
   "cell_type": "code",
   "execution_count": 91,
   "metadata": {},
   "outputs": [
    {
     "data": {
      "text/html": [
       "<div>\n",
       "<style scoped>\n",
       "    .dataframe tbody tr th:only-of-type {\n",
       "        vertical-align: middle;\n",
       "    }\n",
       "\n",
       "    .dataframe tbody tr th {\n",
       "        vertical-align: top;\n",
       "    }\n",
       "\n",
       "    .dataframe thead th {\n",
       "        text-align: right;\n",
       "    }\n",
       "</style>\n",
       "<table border=\"1\" class=\"dataframe\">\n",
       "  <thead>\n",
       "    <tr style=\"text-align: right;\">\n",
       "      <th></th>\n",
       "      <th>ANO</th>\n",
       "      <th>MES</th>\n",
       "      <th>SENADOR</th>\n",
       "      <th>TIPO_DESPESA</th>\n",
       "      <th>CNPJ_CPF</th>\n",
       "      <th>FORNECEDOR</th>\n",
       "      <th>DATA</th>\n",
       "      <th>DETALHAMENTO</th>\n",
       "      <th>VALOR_REEMBOLSADO</th>\n",
       "    </tr>\n",
       "  </thead>\n",
       "  <tbody>\n",
       "    <tr>\n",
       "      <th>1</th>\n",
       "      <td>2019</td>\n",
       "      <td>1</td>\n",
       "      <td>ACIR GURGACZ</td>\n",
       "      <td>Aluguel de imóveis para escritório político, c...</td>\n",
       "      <td>05.914.650/0001-66</td>\n",
       "      <td>ENERGISA</td>\n",
       "      <td>04/01/2019</td>\n",
       "      <td>Despesa com pagamento de energia elétrica do e...</td>\n",
       "      <td>66.02</td>\n",
       "    </tr>\n",
       "    <tr>\n",
       "      <th>2</th>\n",
       "      <td>2019</td>\n",
       "      <td>1</td>\n",
       "      <td>ACIR GURGACZ</td>\n",
       "      <td>Aluguel de imóveis para escritório político, c...</td>\n",
       "      <td>05.914.650/0001-66</td>\n",
       "      <td>ENERGISA</td>\n",
       "      <td>04/01/2019</td>\n",
       "      <td>Despesa com pagamento de energia elétrica do e...</td>\n",
       "      <td>139.98</td>\n",
       "    </tr>\n",
       "    <tr>\n",
       "      <th>3</th>\n",
       "      <td>2019</td>\n",
       "      <td>1</td>\n",
       "      <td>ACIR GURGACZ</td>\n",
       "      <td>Aluguel de imóveis para escritório político, c...</td>\n",
       "      <td>004.948.028-63</td>\n",
       "      <td>GILBERTO PISELO DO NASCIMENTO</td>\n",
       "      <td>07/01/2019</td>\n",
       "      <td>Despesa com pagamento de aluguel de imóvel par...</td>\n",
       "      <td>6000</td>\n",
       "    </tr>\n",
       "    <tr>\n",
       "      <th>4</th>\n",
       "      <td>2019</td>\n",
       "      <td>1</td>\n",
       "      <td>ACIR GURGACZ</td>\n",
       "      <td>Aluguel de imóveis para escritório político, c...</td>\n",
       "      <td>05.423.963/0001-11</td>\n",
       "      <td>OI MÓVEL S.A.</td>\n",
       "      <td>25/12/2018</td>\n",
       "      <td>Despesa com pagamento de telefonia para o escr...</td>\n",
       "      <td>316.39</td>\n",
       "    </tr>\n",
       "    <tr>\n",
       "      <th>5</th>\n",
       "      <td>2019</td>\n",
       "      <td>2</td>\n",
       "      <td>ACIR GURGACZ</td>\n",
       "      <td>Aluguel de imóveis para escritório político, c...</td>\n",
       "      <td>05.914.650/0001-66</td>\n",
       "      <td>ENERGISA</td>\n",
       "      <td>04/02/2019</td>\n",
       "      <td>Despesa com pagamento de energia elétrica para...</td>\n",
       "      <td>99.45</td>\n",
       "    </tr>\n",
       "  </tbody>\n",
       "</table>\n",
       "</div>"
      ],
      "text/plain": [
       "    ANO MES       SENADOR                                       TIPO_DESPESA  \\\n",
       "1  2019   1  ACIR GURGACZ  Aluguel de imóveis para escritório político, c...   \n",
       "2  2019   1  ACIR GURGACZ  Aluguel de imóveis para escritório político, c...   \n",
       "3  2019   1  ACIR GURGACZ  Aluguel de imóveis para escritório político, c...   \n",
       "4  2019   1  ACIR GURGACZ  Aluguel de imóveis para escritório político, c...   \n",
       "5  2019   2  ACIR GURGACZ  Aluguel de imóveis para escritório político, c...   \n",
       "\n",
       "             CNPJ_CPF                     FORNECEDOR        DATA  \\\n",
       "1  05.914.650/0001-66                       ENERGISA  04/01/2019   \n",
       "2  05.914.650/0001-66                       ENERGISA  04/01/2019   \n",
       "3      004.948.028-63  GILBERTO PISELO DO NASCIMENTO  07/01/2019   \n",
       "4  05.423.963/0001-11                  OI MÓVEL S.A.  25/12/2018   \n",
       "5  05.914.650/0001-66                       ENERGISA  04/02/2019   \n",
       "\n",
       "                                        DETALHAMENTO VALOR_REEMBOLSADO  \n",
       "1  Despesa com pagamento de energia elétrica do e...             66.02  \n",
       "2  Despesa com pagamento de energia elétrica do e...            139.98  \n",
       "3  Despesa com pagamento de aluguel de imóvel par...              6000  \n",
       "4  Despesa com pagamento de telefonia para o escr...            316.39  \n",
       "5  Despesa com pagamento de energia elétrica para...             99.45  "
      ]
     },
     "execution_count": 91,
     "metadata": {},
     "output_type": "execute_result"
    }
   ],
   "source": [
    "dados_ceaps.head()"
   ]
  },
  {
   "cell_type": "code",
   "execution_count": 92,
   "metadata": {},
   "outputs": [
    {
     "data": {
      "text/plain": [
       "ANO                  object\n",
       "MES                  object\n",
       "SENADOR              object\n",
       "TIPO_DESPESA         object\n",
       "CNPJ_CPF             object\n",
       "FORNECEDOR           object\n",
       "DATA                 object\n",
       "DETALHAMENTO         object\n",
       "VALOR_REEMBOLSADO    object\n",
       "dtype: object"
      ]
     },
     "execution_count": 92,
     "metadata": {},
     "output_type": "execute_result"
    }
   ],
   "source": [
    "dados_ceaps.dtypes ## Verificando o tipo de dados das nossas colunas  "
   ]
  },
  {
   "cell_type": "markdown",
   "metadata": {},
   "source": [
    ">*ANO* e *MES* `object` para `float`"
   ]
  },
  {
   "cell_type": "code",
   "execution_count": 93,
   "metadata": {},
   "outputs": [],
   "source": [
    "dados_ceaps[\"ANO\"] = pd.to_numeric(dados_ceaps[\"ANO\"], errors=\"coerce\")\n",
    "dados_ceaps[\"MES\"] = pd.to_numeric(dados_ceaps[\"MES\"], errors=\"coerce\")"
   ]
  },
  {
   "cell_type": "code",
   "execution_count": 94,
   "metadata": {},
   "outputs": [
    {
     "data": {
      "text/plain": [
       "ANO                  float64\n",
       "MES                  float64\n",
       "SENADOR               object\n",
       "TIPO_DESPESA          object\n",
       "CNPJ_CPF              object\n",
       "FORNECEDOR            object\n",
       "DATA                  object\n",
       "DETALHAMENTO          object\n",
       "VALOR_REEMBOLSADO     object\n",
       "dtype: object"
      ]
     },
     "execution_count": 94,
     "metadata": {},
     "output_type": "execute_result"
    }
   ],
   "source": [
    "dados_ceaps.dtypes ## Verificando a mudança realizada nos tipo de dados das nossas colunas  "
   ]
  },
  {
   "cell_type": "markdown",
   "metadata": {},
   "source": [
    "Com a existencia da coluna *'DATA'*, não é mais necessario a existencia de uma coluna separada para mês e ano."
   ]
  },
  {
   "cell_type": "code",
   "execution_count": 95,
   "metadata": {},
   "outputs": [],
   "source": [
    "dados_ceaps = dados_ceaps.drop(columns = ['ANO', 'MES']) # Excluindo as colunas 'ANO' e 'MES'"
   ]
  },
  {
   "cell_type": "code",
   "execution_count": 96,
   "metadata": {},
   "outputs": [
    {
     "data": {
      "text/plain": [
       "SENADOR              0\n",
       "TIPO_DESPESA         0\n",
       "CNPJ_CPF             0\n",
       "FORNECEDOR           0\n",
       "DATA                 0\n",
       "DETALHAMENTO         0\n",
       "VALOR_REEMBOLSADO    0\n",
       "dtype: int64"
      ]
     },
     "execution_count": 96,
     "metadata": {},
     "output_type": "execute_result"
    }
   ],
   "source": [
    "dados_ceaps.isnull().sum()"
   ]
  },
  {
   "cell_type": "code",
   "execution_count": 97,
   "metadata": {},
   "outputs": [
    {
     "data": {
      "text/html": [
       "<div>\n",
       "<style scoped>\n",
       "    .dataframe tbody tr th:only-of-type {\n",
       "        vertical-align: middle;\n",
       "    }\n",
       "\n",
       "    .dataframe tbody tr th {\n",
       "        vertical-align: top;\n",
       "    }\n",
       "\n",
       "    .dataframe thead th {\n",
       "        text-align: right;\n",
       "    }\n",
       "</style>\n",
       "<table border=\"1\" class=\"dataframe\">\n",
       "  <thead>\n",
       "    <tr style=\"text-align: right;\">\n",
       "      <th></th>\n",
       "      <th>SENADOR</th>\n",
       "      <th>TIPO_DESPESA</th>\n",
       "      <th>CNPJ_CPF</th>\n",
       "      <th>FORNECEDOR</th>\n",
       "      <th>DATA</th>\n",
       "      <th>DETALHAMENTO</th>\n",
       "      <th>VALOR_REEMBOLSADO</th>\n",
       "    </tr>\n",
       "  </thead>\n",
       "  <tbody>\n",
       "    <tr>\n",
       "      <th>9138</th>\n",
       "      <td>JOSÉ MARANHÃO</td>\n",
       "      <td>Passagens aéreas, aquáticas e terrestres nacio...</td>\n",
       "      <td>07.575.651/0001-59</td>\n",
       "      <td>GOL</td>\n",
       "      <td>01/01/2019</td>\n",
       "      <td>Companhia Aérea: GOL, Localizador: PKGUFJ. Pas...</td>\n",
       "      <td>1624.68</td>\n",
       "    </tr>\n",
       "    <tr>\n",
       "      <th>9382</th>\n",
       "      <td>JOSÉ SERRA</td>\n",
       "      <td>Aluguel de imóveis para escritório político, c...</td>\n",
       "      <td>00.108.786/0001-65</td>\n",
       "      <td>NET SERVIÇOS DE COMUNICAÇÃO S.A.</td>\n",
       "      <td>01/01/2019</td>\n",
       "      <td>Senador José Serra - Despesa com TV a Cabo par...</td>\n",
       "      <td>19.17</td>\n",
       "    </tr>\n",
       "    <tr>\n",
       "      <th>9128</th>\n",
       "      <td>JOSÉ MARANHÃO</td>\n",
       "      <td>Aluguel de imóveis para escritório político, c...</td>\n",
       "      <td>40.432.544/0064-20</td>\n",
       "      <td>NET</td>\n",
       "      <td>01/01/2019</td>\n",
       "      <td>Aluguel de imóveis para escritório político, c...</td>\n",
       "      <td>156.47</td>\n",
       "    </tr>\n",
       "    <tr>\n",
       "      <th>14559</th>\n",
       "      <td>PAULO BAUER</td>\n",
       "      <td>Locomoção, hospedagem, alimentação, combustíve...</td>\n",
       "      <td>22.304.309/0002-99</td>\n",
       "      <td>Restaurante Madero Brasília</td>\n",
       "      <td>01/01/2019</td>\n",
       "      <td>Locomoção, hospedagem, alimentação, combustíve...</td>\n",
       "      <td>78</td>\n",
       "    </tr>\n",
       "    <tr>\n",
       "      <th>19571</th>\n",
       "      <td>WELLINGTON FAGUNDES</td>\n",
       "      <td>Aluguel de imóveis para escritório político, c...</td>\n",
       "      <td>02.558.157/0001-62</td>\n",
       "      <td>Telefonica Brasil S/A</td>\n",
       "      <td>01/01/2019</td>\n",
       "      <td>Despesa com o pagamento referente ao serviço d...</td>\n",
       "      <td>238.28</td>\n",
       "    </tr>\n",
       "    <tr>\n",
       "      <th>...</th>\n",
       "      <td>...</td>\n",
       "      <td>...</td>\n",
       "      <td>...</td>\n",
       "      <td>...</td>\n",
       "      <td>...</td>\n",
       "      <td>...</td>\n",
       "      <td>...</td>\n",
       "    </tr>\n",
       "    <tr>\n",
       "      <th>59654</th>\n",
       "      <td>HUMBERTO COSTA</td>\n",
       "      <td>Aluguel de imóveis para escritório político, c...</td>\n",
       "      <td>586.471.394-53</td>\n",
       "      <td>Maria Dulce Maranhão Zeltser</td>\n",
       "      <td>31/12/2022</td>\n",
       "      <td>Despesa com locação de imóvel para o escritóri...</td>\n",
       "      <td>6000</td>\n",
       "    </tr>\n",
       "    <tr>\n",
       "      <th>62469</th>\n",
       "      <td>LUCAS BARRETO</td>\n",
       "      <td>Locomoção, hospedagem, alimentação, combustíve...</td>\n",
       "      <td>02.163.903/0001-19</td>\n",
       "      <td>Souza &amp; Cavalcante Comércio Ltda</td>\n",
       "      <td>31/12/2022</td>\n",
       "      <td>Locomoção, hospedagem, alimentação, combustíve...</td>\n",
       "      <td>200</td>\n",
       "    </tr>\n",
       "    <tr>\n",
       "      <th>21635</th>\n",
       "      <td>SENADOR</td>\n",
       "      <td>TIPO_DESPESA</td>\n",
       "      <td>CNPJ_CPF</td>\n",
       "      <td>FORNECEDOR</td>\n",
       "      <td>DATA</td>\n",
       "      <td>DETALHAMENTO</td>\n",
       "      <td>VALOR_REEMBOLSADO</td>\n",
       "    </tr>\n",
       "    <tr>\n",
       "      <th>35726</th>\n",
       "      <td>SENADOR</td>\n",
       "      <td>TIPO_DESPESA</td>\n",
       "      <td>CNPJ_CPF</td>\n",
       "      <td>FORNECEDOR</td>\n",
       "      <td>DATA</td>\n",
       "      <td>DETALHAMENTO</td>\n",
       "      <td>VALOR_REEMBOLSADO</td>\n",
       "    </tr>\n",
       "    <tr>\n",
       "      <th>52554</th>\n",
       "      <td>SENADOR</td>\n",
       "      <td>TIPO_DESPESA</td>\n",
       "      <td>CNPJ_CPF</td>\n",
       "      <td>FORNECEDOR</td>\n",
       "      <td>DATA</td>\n",
       "      <td>DETALHAMENTO</td>\n",
       "      <td>VALOR_REEMBOLSADO</td>\n",
       "    </tr>\n",
       "  </tbody>\n",
       "</table>\n",
       "<p>69336 rows × 7 columns</p>\n",
       "</div>"
      ],
      "text/plain": [
       "                   SENADOR                                       TIPO_DESPESA  \\\n",
       "9138         JOSÉ MARANHÃO  Passagens aéreas, aquáticas e terrestres nacio...   \n",
       "9382            JOSÉ SERRA  Aluguel de imóveis para escritório político, c...   \n",
       "9128         JOSÉ MARANHÃO  Aluguel de imóveis para escritório político, c...   \n",
       "14559          PAULO BAUER  Locomoção, hospedagem, alimentação, combustíve...   \n",
       "19571  WELLINGTON FAGUNDES  Aluguel de imóveis para escritório político, c...   \n",
       "...                    ...                                                ...   \n",
       "59654       HUMBERTO COSTA  Aluguel de imóveis para escritório político, c...   \n",
       "62469        LUCAS BARRETO  Locomoção, hospedagem, alimentação, combustíve...   \n",
       "21635              SENADOR                                       TIPO_DESPESA   \n",
       "35726              SENADOR                                       TIPO_DESPESA   \n",
       "52554              SENADOR                                       TIPO_DESPESA   \n",
       "\n",
       "                 CNPJ_CPF                        FORNECEDOR        DATA  \\\n",
       "9138   07.575.651/0001-59                               GOL  01/01/2019   \n",
       "9382   00.108.786/0001-65  NET SERVIÇOS DE COMUNICAÇÃO S.A.  01/01/2019   \n",
       "9128   40.432.544/0064-20                               NET  01/01/2019   \n",
       "14559  22.304.309/0002-99       Restaurante Madero Brasília  01/01/2019   \n",
       "19571  02.558.157/0001-62             Telefonica Brasil S/A  01/01/2019   \n",
       "...                   ...                               ...         ...   \n",
       "59654      586.471.394-53      Maria Dulce Maranhão Zeltser  31/12/2022   \n",
       "62469  02.163.903/0001-19  Souza & Cavalcante Comércio Ltda  31/12/2022   \n",
       "21635            CNPJ_CPF                        FORNECEDOR        DATA   \n",
       "35726            CNPJ_CPF                        FORNECEDOR        DATA   \n",
       "52554            CNPJ_CPF                        FORNECEDOR        DATA   \n",
       "\n",
       "                                            DETALHAMENTO  VALOR_REEMBOLSADO  \n",
       "9138   Companhia Aérea: GOL, Localizador: PKGUFJ. Pas...            1624.68  \n",
       "9382   Senador José Serra - Despesa com TV a Cabo par...              19.17  \n",
       "9128   Aluguel de imóveis para escritório político, c...             156.47  \n",
       "14559  Locomoção, hospedagem, alimentação, combustíve...                 78  \n",
       "19571  Despesa com o pagamento referente ao serviço d...             238.28  \n",
       "...                                                  ...                ...  \n",
       "59654  Despesa com locação de imóvel para o escritóri...               6000  \n",
       "62469  Locomoção, hospedagem, alimentação, combustíve...                200  \n",
       "21635                                       DETALHAMENTO  VALOR_REEMBOLSADO  \n",
       "35726                                       DETALHAMENTO  VALOR_REEMBOLSADO  \n",
       "52554                                       DETALHAMENTO  VALOR_REEMBOLSADO  \n",
       "\n",
       "[69336 rows x 7 columns]"
      ]
     },
     "execution_count": 97,
     "metadata": {},
     "output_type": "execute_result"
    }
   ],
   "source": [
    "dados_ceaps.sort_values(by='DATA') ## Ordenamos o DataFrame de forma crescente em relação a coluna 'DATA'"
   ]
  },
  {
   "cell_type": "code",
   "execution_count": 98,
   "metadata": {},
   "outputs": [],
   "source": [
    "dados_ceaps[\"VALOR_REEMBOLSADO\"] = pd.to_numeric(dados_ceaps[\"VALOR_REEMBOLSADO\"], errors=\"coerce\") # Converter a coluna 'VALOR_REEMBOLSADO' para o tipo float"
   ]
  },
  {
   "cell_type": "code",
   "execution_count": 99,
   "metadata": {},
   "outputs": [
    {
     "data": {
      "text/html": [
       "<div>\n",
       "<style scoped>\n",
       "    .dataframe tbody tr th:only-of-type {\n",
       "        vertical-align: middle;\n",
       "    }\n",
       "\n",
       "    .dataframe tbody tr th {\n",
       "        vertical-align: top;\n",
       "    }\n",
       "\n",
       "    .dataframe thead th {\n",
       "        text-align: right;\n",
       "    }\n",
       "</style>\n",
       "<table border=\"1\" class=\"dataframe\">\n",
       "  <thead>\n",
       "    <tr style=\"text-align: right;\">\n",
       "      <th></th>\n",
       "      <th>SENADOR</th>\n",
       "      <th>TIPO_DESPESA</th>\n",
       "      <th>CNPJ_CPF</th>\n",
       "      <th>FORNECEDOR</th>\n",
       "      <th>DATA</th>\n",
       "      <th>DETALHAMENTO</th>\n",
       "      <th>VALOR_REEMBOLSADO</th>\n",
       "    </tr>\n",
       "  </thead>\n",
       "  <tbody>\n",
       "    <tr>\n",
       "      <th>1</th>\n",
       "      <td>ACIR GURGACZ</td>\n",
       "      <td>Aluguel de imóveis para escritório político, c...</td>\n",
       "      <td>05.914.650/0001-66</td>\n",
       "      <td>ENERGISA</td>\n",
       "      <td>04/01/2019</td>\n",
       "      <td>Despesa com pagamento de energia elétrica do e...</td>\n",
       "      <td>66.02</td>\n",
       "    </tr>\n",
       "    <tr>\n",
       "      <th>2</th>\n",
       "      <td>ACIR GURGACZ</td>\n",
       "      <td>Aluguel de imóveis para escritório político, c...</td>\n",
       "      <td>05.914.650/0001-66</td>\n",
       "      <td>ENERGISA</td>\n",
       "      <td>04/01/2019</td>\n",
       "      <td>Despesa com pagamento de energia elétrica do e...</td>\n",
       "      <td>139.98</td>\n",
       "    </tr>\n",
       "    <tr>\n",
       "      <th>3</th>\n",
       "      <td>ACIR GURGACZ</td>\n",
       "      <td>Aluguel de imóveis para escritório político, c...</td>\n",
       "      <td>004.948.028-63</td>\n",
       "      <td>GILBERTO PISELO DO NASCIMENTO</td>\n",
       "      <td>07/01/2019</td>\n",
       "      <td>Despesa com pagamento de aluguel de imóvel par...</td>\n",
       "      <td>6000.00</td>\n",
       "    </tr>\n",
       "    <tr>\n",
       "      <th>4</th>\n",
       "      <td>ACIR GURGACZ</td>\n",
       "      <td>Aluguel de imóveis para escritório político, c...</td>\n",
       "      <td>05.423.963/0001-11</td>\n",
       "      <td>OI MÓVEL S.A.</td>\n",
       "      <td>25/12/2018</td>\n",
       "      <td>Despesa com pagamento de telefonia para o escr...</td>\n",
       "      <td>316.39</td>\n",
       "    </tr>\n",
       "    <tr>\n",
       "      <th>5</th>\n",
       "      <td>ACIR GURGACZ</td>\n",
       "      <td>Aluguel de imóveis para escritório político, c...</td>\n",
       "      <td>05.914.650/0001-66</td>\n",
       "      <td>ENERGISA</td>\n",
       "      <td>04/02/2019</td>\n",
       "      <td>Despesa com pagamento de energia elétrica para...</td>\n",
       "      <td>99.45</td>\n",
       "    </tr>\n",
       "  </tbody>\n",
       "</table>\n",
       "</div>"
      ],
      "text/plain": [
       "        SENADOR                                       TIPO_DESPESA  \\\n",
       "1  ACIR GURGACZ  Aluguel de imóveis para escritório político, c...   \n",
       "2  ACIR GURGACZ  Aluguel de imóveis para escritório político, c...   \n",
       "3  ACIR GURGACZ  Aluguel de imóveis para escritório político, c...   \n",
       "4  ACIR GURGACZ  Aluguel de imóveis para escritório político, c...   \n",
       "5  ACIR GURGACZ  Aluguel de imóveis para escritório político, c...   \n",
       "\n",
       "             CNPJ_CPF                     FORNECEDOR        DATA  \\\n",
       "1  05.914.650/0001-66                       ENERGISA  04/01/2019   \n",
       "2  05.914.650/0001-66                       ENERGISA  04/01/2019   \n",
       "3      004.948.028-63  GILBERTO PISELO DO NASCIMENTO  07/01/2019   \n",
       "4  05.423.963/0001-11                  OI MÓVEL S.A.  25/12/2018   \n",
       "5  05.914.650/0001-66                       ENERGISA  04/02/2019   \n",
       "\n",
       "                                        DETALHAMENTO  VALOR_REEMBOLSADO  \n",
       "1  Despesa com pagamento de energia elétrica do e...              66.02  \n",
       "2  Despesa com pagamento de energia elétrica do e...             139.98  \n",
       "3  Despesa com pagamento de aluguel de imóvel par...            6000.00  \n",
       "4  Despesa com pagamento de telefonia para o escr...             316.39  \n",
       "5  Despesa com pagamento de energia elétrica para...              99.45  "
      ]
     },
     "execution_count": 99,
     "metadata": {},
     "output_type": "execute_result"
    }
   ],
   "source": [
    "dados_ceaps.head()"
   ]
  },
  {
   "cell_type": "code",
   "execution_count": 100,
   "metadata": {},
   "outputs": [
    {
     "data": {
      "text/plain": [
       "SENADOR               object\n",
       "TIPO_DESPESA          object\n",
       "CNPJ_CPF              object\n",
       "FORNECEDOR            object\n",
       "DATA                  object\n",
       "DETALHAMENTO          object\n",
       "VALOR_REEMBOLSADO    float64\n",
       "dtype: object"
      ]
     },
     "execution_count": 100,
     "metadata": {},
     "output_type": "execute_result"
    }
   ],
   "source": [
    "dados_ceaps.dtypes"
   ]
  },
  {
   "cell_type": "markdown",
   "metadata": {},
   "source": [
    "## Realizando análises dos Valores Reembolsados "
   ]
  },
  {
   "cell_type": "code",
   "execution_count": 101,
   "metadata": {},
   "outputs": [
    {
     "data": {
      "text/html": [
       "<div>\n",
       "<style scoped>\n",
       "    .dataframe tbody tr th:only-of-type {\n",
       "        vertical-align: middle;\n",
       "    }\n",
       "\n",
       "    .dataframe tbody tr th {\n",
       "        vertical-align: top;\n",
       "    }\n",
       "\n",
       "    .dataframe thead th {\n",
       "        text-align: right;\n",
       "    }\n",
       "</style>\n",
       "<table border=\"1\" class=\"dataframe\">\n",
       "  <thead>\n",
       "    <tr style=\"text-align: right;\">\n",
       "      <th></th>\n",
       "      <th>VALOR_REEMBOLSADO</th>\n",
       "    </tr>\n",
       "  </thead>\n",
       "  <tbody>\n",
       "    <tr>\n",
       "      <th>count</th>\n",
       "      <td>69333.000000</td>\n",
       "    </tr>\n",
       "    <tr>\n",
       "      <th>mean</th>\n",
       "      <td>1413.131098</td>\n",
       "    </tr>\n",
       "    <tr>\n",
       "      <th>std</th>\n",
       "      <td>3098.174309</td>\n",
       "    </tr>\n",
       "    <tr>\n",
       "      <th>min</th>\n",
       "      <td>0.010000</td>\n",
       "    </tr>\n",
       "    <tr>\n",
       "      <th>25%</th>\n",
       "      <td>158.140000</td>\n",
       "    </tr>\n",
       "    <tr>\n",
       "      <th>50%</th>\n",
       "      <td>426.040000</td>\n",
       "    </tr>\n",
       "    <tr>\n",
       "      <th>75%</th>\n",
       "      <td>1570.560000</td>\n",
       "    </tr>\n",
       "    <tr>\n",
       "      <th>max</th>\n",
       "      <td>120000.000000</td>\n",
       "    </tr>\n",
       "  </tbody>\n",
       "</table>\n",
       "</div>"
      ],
      "text/plain": [
       "       VALOR_REEMBOLSADO\n",
       "count       69333.000000\n",
       "mean         1413.131098\n",
       "std          3098.174309\n",
       "min             0.010000\n",
       "25%           158.140000\n",
       "50%           426.040000\n",
       "75%          1570.560000\n",
       "max        120000.000000"
      ]
     },
     "execution_count": 101,
     "metadata": {},
     "output_type": "execute_result"
    }
   ],
   "source": [
    "dados_ceaps.describe()"
   ]
  },
  {
   "cell_type": "code",
   "execution_count": 102,
   "metadata": {},
   "outputs": [
    {
     "data": {
      "text/html": [
       "<div>\n",
       "<style scoped>\n",
       "    .dataframe tbody tr th:only-of-type {\n",
       "        vertical-align: middle;\n",
       "    }\n",
       "\n",
       "    .dataframe tbody tr th {\n",
       "        vertical-align: top;\n",
       "    }\n",
       "\n",
       "    .dataframe thead th {\n",
       "        text-align: right;\n",
       "    }\n",
       "</style>\n",
       "<table border=\"1\" class=\"dataframe\">\n",
       "  <thead>\n",
       "    <tr style=\"text-align: right;\">\n",
       "      <th></th>\n",
       "      <th>SENADOR</th>\n",
       "      <th>TIPO_DESPESA</th>\n",
       "      <th>CNPJ_CPF</th>\n",
       "      <th>FORNECEDOR</th>\n",
       "      <th>DATA</th>\n",
       "      <th>DETALHAMENTO</th>\n",
       "      <th>VALOR_REEMBOLSADO</th>\n",
       "    </tr>\n",
       "  </thead>\n",
       "  <tbody>\n",
       "  </tbody>\n",
       "</table>\n",
       "</div>"
      ],
      "text/plain": [
       "Empty DataFrame\n",
       "Columns: [SENADOR, TIPO_DESPESA, CNPJ_CPF, FORNECEDOR, DATA, DETALHAMENTO, VALOR_REEMBOLSADO]\n",
       "Index: []"
      ]
     },
     "execution_count": 102,
     "metadata": {},
     "output_type": "execute_result"
    }
   ],
   "source": [
    "dados_ceaps.query('VALOR_REEMBOLSADO < -1') ## Usando query para procurar valores negativos na coluna 'VALOR_REEMBOLSADO'"
   ]
  },
  {
   "cell_type": "code",
   "execution_count": 103,
   "metadata": {},
   "outputs": [],
   "source": [
    "## Exportando DataSet\n",
    "\n",
    "dados_ceaps.to_csv('CEAPS_dados_2019_2022.csv', sep=';')"
   ]
  }
 ],
 "metadata": {
  "kernelspec": {
   "display_name": "Python 3",
   "language": "python",
   "name": "python3"
  },
  "language_info": {
   "codemirror_mode": {
    "name": "ipython",
    "version": 3
   },
   "file_extension": ".py",
   "mimetype": "text/x-python",
   "name": "python",
   "nbconvert_exporter": "python",
   "pygments_lexer": "ipython3",
   "version": "3.11.4"
  }
 },
 "nbformat": 4,
 "nbformat_minor": 2
}
